{
  "cells": [
    {
      "cell_type": "markdown",
      "metadata": {
        "id": "vwPba0Jg2bSX"
      },
      "source": [
        "# Pytorch LSTM Stock Predictor\n"
      ]
    },
    {
      "cell_type": "markdown",
      "metadata": {},
      "source": [
        "## Step 1: Load data"
      ]
    },
    {
      "cell_type": "code",
      "execution_count": 1,
      "metadata": {
        "id": "lC_2yxKR2bSe"
      },
      "outputs": [],
      "source": [
        "import numpy as np\n",
        "import pandas as pd\n",
        "import matplotlib.pyplot as plt\n",
        "\n",
        "import torch.nn as nn\n",
        "import torch\n",
        "from torch.autograd import Variable\n",
        "from torch.utils.data import Dataset, DataLoader\n",
        "import torch.nn.functional as F\n",
        "from sklearn.preprocessing import MinMaxScaler"
      ]
    },
    {
      "cell_type": "code",
      "execution_count": 2,
      "metadata": {},
      "outputs": [],
      "source": [
        "data = pd.read_csv('all_stocks_5yr.csv')"
      ]
    },
    {
      "cell_type": "code",
      "execution_count": 3,
      "metadata": {},
      "outputs": [
        {
          "name": "stdout",
          "output_type": "stream",
          "text": [
            "<class 'pandas.core.frame.DataFrame'>\n",
            "RangeIndex: 619040 entries, 0 to 619039\n",
            "Data columns (total 7 columns):\n",
            " #   Column  Non-Null Count   Dtype  \n",
            "---  ------  --------------   -----  \n",
            " 0   date    619040 non-null  object \n",
            " 1   open    619029 non-null  float64\n",
            " 2   high    619032 non-null  float64\n",
            " 3   low     619032 non-null  float64\n",
            " 4   close   619040 non-null  float64\n",
            " 5   volume  619040 non-null  int64  \n",
            " 6   Name    619040 non-null  object \n",
            "dtypes: float64(4), int64(1), object(2)\n",
            "memory usage: 33.1+ MB\n"
          ]
        }
      ],
      "source": [
        "data.info()"
      ]
    },
    {
      "cell_type": "code",
      "execution_count": 4,
      "metadata": {},
      "outputs": [
        {
          "data": {
            "text/html": [
              "<div>\n",
              "<style scoped>\n",
              "    .dataframe tbody tr th:only-of-type {\n",
              "        vertical-align: middle;\n",
              "    }\n",
              "\n",
              "    .dataframe tbody tr th {\n",
              "        vertical-align: top;\n",
              "    }\n",
              "\n",
              "    .dataframe thead th {\n",
              "        text-align: right;\n",
              "    }\n",
              "</style>\n",
              "<table border=\"1\" class=\"dataframe\">\n",
              "  <thead>\n",
              "    <tr style=\"text-align: right;\">\n",
              "      <th></th>\n",
              "      <th>date</th>\n",
              "      <th>open</th>\n",
              "      <th>high</th>\n",
              "      <th>low</th>\n",
              "      <th>close</th>\n",
              "      <th>volume</th>\n",
              "      <th>Name</th>\n",
              "    </tr>\n",
              "  </thead>\n",
              "  <tbody>\n",
              "    <tr>\n",
              "      <th>0</th>\n",
              "      <td>2013-02-08</td>\n",
              "      <td>15.07</td>\n",
              "      <td>15.12</td>\n",
              "      <td>14.63</td>\n",
              "      <td>14.75</td>\n",
              "      <td>8407500</td>\n",
              "      <td>AAL</td>\n",
              "    </tr>\n",
              "    <tr>\n",
              "      <th>1</th>\n",
              "      <td>2013-02-11</td>\n",
              "      <td>14.89</td>\n",
              "      <td>15.01</td>\n",
              "      <td>14.26</td>\n",
              "      <td>14.46</td>\n",
              "      <td>8882000</td>\n",
              "      <td>AAL</td>\n",
              "    </tr>\n",
              "    <tr>\n",
              "      <th>2</th>\n",
              "      <td>2013-02-12</td>\n",
              "      <td>14.45</td>\n",
              "      <td>14.51</td>\n",
              "      <td>14.10</td>\n",
              "      <td>14.27</td>\n",
              "      <td>8126000</td>\n",
              "      <td>AAL</td>\n",
              "    </tr>\n",
              "    <tr>\n",
              "      <th>3</th>\n",
              "      <td>2013-02-13</td>\n",
              "      <td>14.30</td>\n",
              "      <td>14.94</td>\n",
              "      <td>14.25</td>\n",
              "      <td>14.66</td>\n",
              "      <td>10259500</td>\n",
              "      <td>AAL</td>\n",
              "    </tr>\n",
              "    <tr>\n",
              "      <th>4</th>\n",
              "      <td>2013-02-14</td>\n",
              "      <td>14.94</td>\n",
              "      <td>14.96</td>\n",
              "      <td>13.16</td>\n",
              "      <td>13.99</td>\n",
              "      <td>31879900</td>\n",
              "      <td>AAL</td>\n",
              "    </tr>\n",
              "  </tbody>\n",
              "</table>\n",
              "</div>"
            ],
            "text/plain": [
              "         date   open   high    low  close    volume Name\n",
              "0  2013-02-08  15.07  15.12  14.63  14.75   8407500  AAL\n",
              "1  2013-02-11  14.89  15.01  14.26  14.46   8882000  AAL\n",
              "2  2013-02-12  14.45  14.51  14.10  14.27   8126000  AAL\n",
              "3  2013-02-13  14.30  14.94  14.25  14.66  10259500  AAL\n",
              "4  2013-02-14  14.94  14.96  13.16  13.99  31879900  AAL"
            ]
          },
          "execution_count": 4,
          "metadata": {},
          "output_type": "execute_result"
        }
      ],
      "source": [
        "data.head()"
      ]
    },
    {
      "cell_type": "code",
      "execution_count": 5,
      "metadata": {},
      "outputs": [
        {
          "data": {
            "text/html": [
              "<div>\n",
              "<style scoped>\n",
              "    .dataframe tbody tr th:only-of-type {\n",
              "        vertical-align: middle;\n",
              "    }\n",
              "\n",
              "    .dataframe tbody tr th {\n",
              "        vertical-align: top;\n",
              "    }\n",
              "\n",
              "    .dataframe thead th {\n",
              "        text-align: right;\n",
              "    }\n",
              "</style>\n",
              "<table border=\"1\" class=\"dataframe\">\n",
              "  <thead>\n",
              "    <tr style=\"text-align: right;\">\n",
              "      <th></th>\n",
              "      <th>date</th>\n",
              "      <th>open</th>\n",
              "      <th>high</th>\n",
              "      <th>low</th>\n",
              "      <th>close</th>\n",
              "      <th>volume</th>\n",
              "      <th>Name</th>\n",
              "    </tr>\n",
              "  </thead>\n",
              "  <tbody>\n",
              "    <tr>\n",
              "      <th>619035</th>\n",
              "      <td>2018-02-01</td>\n",
              "      <td>76.84</td>\n",
              "      <td>78.27</td>\n",
              "      <td>76.69</td>\n",
              "      <td>77.82</td>\n",
              "      <td>2982259</td>\n",
              "      <td>ZTS</td>\n",
              "    </tr>\n",
              "    <tr>\n",
              "      <th>619036</th>\n",
              "      <td>2018-02-02</td>\n",
              "      <td>77.53</td>\n",
              "      <td>78.12</td>\n",
              "      <td>76.73</td>\n",
              "      <td>76.78</td>\n",
              "      <td>2595187</td>\n",
              "      <td>ZTS</td>\n",
              "    </tr>\n",
              "    <tr>\n",
              "      <th>619037</th>\n",
              "      <td>2018-02-05</td>\n",
              "      <td>76.64</td>\n",
              "      <td>76.92</td>\n",
              "      <td>73.18</td>\n",
              "      <td>73.83</td>\n",
              "      <td>2962031</td>\n",
              "      <td>ZTS</td>\n",
              "    </tr>\n",
              "    <tr>\n",
              "      <th>619038</th>\n",
              "      <td>2018-02-06</td>\n",
              "      <td>72.74</td>\n",
              "      <td>74.56</td>\n",
              "      <td>72.13</td>\n",
              "      <td>73.27</td>\n",
              "      <td>4924323</td>\n",
              "      <td>ZTS</td>\n",
              "    </tr>\n",
              "    <tr>\n",
              "      <th>619039</th>\n",
              "      <td>2018-02-07</td>\n",
              "      <td>72.70</td>\n",
              "      <td>75.00</td>\n",
              "      <td>72.69</td>\n",
              "      <td>73.86</td>\n",
              "      <td>4534912</td>\n",
              "      <td>ZTS</td>\n",
              "    </tr>\n",
              "  </tbody>\n",
              "</table>\n",
              "</div>"
            ],
            "text/plain": [
              "              date   open   high    low  close   volume Name\n",
              "619035  2018-02-01  76.84  78.27  76.69  77.82  2982259  ZTS\n",
              "619036  2018-02-02  77.53  78.12  76.73  76.78  2595187  ZTS\n",
              "619037  2018-02-05  76.64  76.92  73.18  73.83  2962031  ZTS\n",
              "619038  2018-02-06  72.74  74.56  72.13  73.27  4924323  ZTS\n",
              "619039  2018-02-07  72.70  75.00  72.69  73.86  4534912  ZTS"
            ]
          },
          "execution_count": 5,
          "metadata": {},
          "output_type": "execute_result"
        }
      ],
      "source": [
        "data.tail()"
      ]
    },
    {
      "cell_type": "code",
      "execution_count": 6,
      "metadata": {},
      "outputs": [],
      "source": [
        "apl_close = data[data['Name']=='AAPL'].close.values"
      ]
    },
    {
      "cell_type": "code",
      "execution_count": 7,
      "metadata": {
        "colab": {
          "base_uri": "https://localhost:8080/"
        },
        "id": "RpBD2HLHxqQ7",
        "outputId": "6859820a-8aa3-45ad-a91d-ea905fcb818b"
      },
      "outputs": [],
      "source": [
        "sc = MinMaxScaler(feature_range = (0, 1))\n",
        "\n",
        "# scale the data\n",
        "apl_close = apl_close.reshape(apl_close.shape[0], 1)\n",
        "apl = sc.fit_transform(apl_close)"
      ]
    },
    {
      "cell_type": "markdown",
      "metadata": {
        "id": "UURKEshg3g0G"
      },
      "source": [
        "## Step 2:  Cutting time series into sequences\n",
        "\n",
        "Time series is a sequence of numbers that we can represent in general mathematically as\n",
        "\n",
        "$$s_{0},s_{1},s_{2},...,s_{p}$$\n",
        "\n",
        "where $s_{p}$ is the numerical value of the time series at time period $p$ and where $p$ is the total length of the series.  In order to treat the time series prediction problem as a regression problem, and so need to use a sliding window to construct a set of associated input/output pairs to regress on.  This process is animated in the gif below.\n",
        "\n",
        "<img src=\"https://github.com/tonylaioffer/stock-prediction-lstm-using-keras/raw/master/images/timeseries_windowing_training.gif\" width=600 height=288/>\n",
        "\n",
        "For example - using a window of size T = 5 (as illustrated in the gif above) to produce a set of input/output pairs like the one shown in the table below\n",
        "\n",
        "$$\\begin{array}{c|c}\n",
        "\\text{Input} & \\text{Output}\\\\\n",
        "\\hline \\color{CornflowerBlue} {\\langle s_{1},s_{2},s_{3},s_{4},s_{5}\\rangle} & \\color{Goldenrod}{ s_{6}} \\\\\n",
        "\\ \\color{CornflowerBlue} {\\langle s_{2},s_{3},s_{4},s_{5},s_{6} \\rangle } & \\color{Goldenrod} {s_{7} } \\\\\n",
        "\\color{CornflowerBlue}  {\\vdots} & \\color{Goldenrod} {\\vdots}\\\\\n",
        "\\color{CornflowerBlue} { \\langle s_{P-5},s_{P-4},s_{P-3},s_{P-2},s_{P-1} \\rangle } & \\color{Goldenrod} {s_{P}}\n",
        "\\end{array}$$\n",
        "\n",
        "Notice here that each input is a sequence (or vector) of length 5 (and in general has length equal to the window size T) while each corresponding output is a scalar value.  So a time series of length P and window size T = 5 as shown above can create P - 5  input/output pairs.  More generally, for a window size T we create P - T such pairs.\n",
        "\n",
        " "
      ]
    },
    {
      "cell_type": "code",
      "execution_count": 8,
      "metadata": {
        "id": "pvBLqRvm4L6k"
      },
      "outputs": [],
      "source": [
        "# Create a function to process the data into 7 day look back slices\n",
        "def processData(data, lb):\n",
        "    X, Y = [], []\n",
        "    for i in range(len(data) - lb - 1):\n",
        "        X.append(data[i: (i + lb), 0])\n",
        "        Y.append(data[(i + lb), 0])\n",
        "    return np.array(X), np.array(Y)\n",
        "X, y = processData(apl, 7)\n"
      ]
    },
    {
      "cell_type": "code",
      "execution_count": 9,
      "metadata": {},
      "outputs": [
        {
          "name": "stdout",
          "output_type": "stream",
          "text": [
            "1259 1251 1251\n"
          ]
        }
      ],
      "source": [
        "print(len(apl), len(X), len(y))"
      ]
    },
    {
      "cell_type": "code",
      "execution_count": 10,
      "metadata": {},
      "outputs": [
        {
          "data": {
            "text/plain": [
              "(1251, 7)"
            ]
          },
          "execution_count": 10,
          "metadata": {},
          "output_type": "execute_result"
        }
      ],
      "source": [
        "X.shape"
      ]
    },
    {
      "cell_type": "markdown",
      "metadata": {
        "id": "yHsQGQ_V42G0"
      },
      "source": [
        "## Step 3: Train/Test split\n",
        "\n",
        "In order to perform proper testing on our dataset I lop off the last 1/3 of it for validation (or testing).  \n",
        "\n",
        "Note it is **not** splitting the dataset *randomly* as one typically would do when validating a regression model.  This is because the input/output pairs *are related temporally*.  I don't want to validate our model by training on a random subset of the series and then testing on another random subset, as this simulates the scenario that  receiving new points *within the timeframe of our training set*.  \n",
        "\n",
        "The right way is to train on one solid chunk of the series (in this case, the first full 2/3 of it), and validate on a later chunk (the last 1/3) as this simulates how the model would predict *future* values of a time series."
      ]
    },
    {
      "cell_type": "code",
      "execution_count": 11,
      "metadata": {},
      "outputs": [],
      "source": [
        "X_train, X_test = X[:int(X.shape[0]*0.80)],X[int(X.shape[0]*0.80):]\n",
        "y_train, y_test = y[:int(y.shape[0]*0.80)],y[int(y.shape[0]*0.80):]\n",
        "# reshaping\n",
        "X_train = np.reshape(X_train, (X_train.shape[0], 1, X_train.shape[1]))\n",
        "X_test = np.reshape(X_test, (X_test.shape[0], 1, X_test.shape[1]))"
      ]
    },
    {
      "cell_type": "code",
      "execution_count": 12,
      "metadata": {},
      "outputs": [
        {
          "data": {
            "text/plain": [
              "(1000, 1, 7)"
            ]
          },
          "execution_count": 12,
          "metadata": {},
          "output_type": "execute_result"
        }
      ],
      "source": [
        "X_train.shape"
      ]
    },
    {
      "cell_type": "code",
      "execution_count": 13,
      "metadata": {},
      "outputs": [
        {
          "data": {
            "text/plain": [
              "(1000,)"
            ]
          },
          "execution_count": 13,
          "metadata": {},
          "output_type": "execute_result"
        }
      ],
      "source": [
        "y_train.shape"
      ]
    },
    {
      "cell_type": "markdown",
      "metadata": {},
      "source": [
        "## Step 4: Model building\n",
        "\n",
        "Build a two hidden layer RNN of the following specifications\n",
        "\n",
        "- layer 1 uses an LSTM module\n",
        "- layer 2 uses a fully connected module with one unit\n",
        "- the 'mean_squared_error' loss should be used"
      ]
    },
    {
      "cell_type": "code",
      "execution_count": 14,
      "metadata": {
        "id": "HNWryPPg2bTM"
      },
      "outputs": [],
      "source": [
        "class RNN(nn.Module):\n",
        "    def __init__(self, i_size, h_size, n_layers, o_size, dropout=0.1, bidirectional=True):\n",
        "        super(RNN, self).__init__()\n",
        "        self.num_directions = bidirectional+1\n",
        "        self.rnn = nn.LSTM(\n",
        "            input_size=i_size,\n",
        "            hidden_size=h_size,\n",
        "            num_layers=n_layers,\n",
        "            dropout=dropout,\n",
        "            bidirectional=bidirectional\n",
        "        )\n",
        "        self.out = nn.Linear(h_size, o_size)\n",
        "\n",
        "    def forward(self, x, h_state):\n",
        "        r_out, hidden_state = self.rnn(x, h_state)\n",
        "        hidden_size = hidden_state[-1].size(-1)\n",
        "        r_out = r_out.view(-1, self.num_directions, hidden_size)\n",
        "\n",
        "        outs = self.out(r_out)\n",
        "\n",
        "        return outs, hidden_state"
      ]
    },
    {
      "cell_type": "code",
      "execution_count": 15,
      "metadata": {
        "id": "SwwPpVsK2bTQ"
      },
      "outputs": [],
      "source": [
        "INPUT_SIZE = 7\n",
        "HIDDEN_SIZE = 64\n",
        "NUM_LAYERS = 3\n",
        "OUTPUT_SIZE = 1\n",
        "# BATCH_SIZE = 128\n",
        "\n",
        "learning_rate = 0.001\n",
        "num_epochs = 300\n",
        "\n",
        "rnn = RNN(INPUT_SIZE, HIDDEN_SIZE, NUM_LAYERS, OUTPUT_SIZE,bidirectional=False)\n",
        "# device = torch.device(\"mps\")\n",
        "# rnn.to(device)\n",
        "\n",
        "optimiser = torch.optim.Adam(rnn.parameters(), lr=learning_rate)\n",
        "criterion = nn.MSELoss()\n",
        "\n",
        "hidden_state = None"
      ]
    },
    {
      "cell_type": "code",
      "execution_count": 16,
      "metadata": {
        "colab": {
          "base_uri": "https://localhost:8080/"
        },
        "id": "BiQaghDCtNdg",
        "outputId": "b7221260-313c-407c-b334-62fb97d79c0c"
      },
      "outputs": [
        {
          "data": {
            "text/plain": [
              "RNN(\n",
              "  (rnn): LSTM(7, 64, num_layers=3, dropout=0.1)\n",
              "  (out): Linear(in_features=64, out_features=1, bias=True)\n",
              ")"
            ]
          },
          "execution_count": 16,
          "metadata": {},
          "output_type": "execute_result"
        }
      ],
      "source": [
        "rnn"
      ]
    },
    {
      "cell_type": "code",
      "execution_count": 18,
      "metadata": {
        "colab": {
          "base_uri": "https://localhost:8080/"
        },
        "id": "QlRhF5JP2bTX",
        "outputId": "74ccc0c3-cf3c-43e3-9431-1fc97de4c492"
      },
      "outputs": [
        {
          "name": "stdout",
          "output_type": "stream",
          "text": [
            "epoch 0, loss 0.11432524770498276, eval loss 0.5439240336418152\n",
            "epoch 1, loss 0.09737362712621689\n",
            "epoch 2, loss 0.08184375613927841\n",
            "epoch 3, loss 0.06767711043357849\n",
            "epoch 4, loss 0.05457639321684837\n",
            "epoch 5, loss 0.04277407377958298\n",
            "epoch 6, loss 0.033277884125709534\n",
            "epoch 7, loss 0.026785125955939293\n",
            "epoch 8, loss 0.024906979873776436\n",
            "epoch 9, loss 0.02915051020681858\n",
            "epoch 10, loss 0.03396366164088249\n",
            "epoch 11, loss 0.03449462354183197\n",
            "epoch 12, loss 0.03139964118599892\n",
            "epoch 13, loss 0.027433129027485847\n",
            "epoch 14, loss 0.02447742596268654\n",
            "epoch 15, loss 0.022968685254454613\n",
            "epoch 16, loss 0.022442780435085297\n",
            "epoch 17, loss 0.02258235029876232\n",
            "epoch 18, loss 0.02305006794631481\n",
            "epoch 19, loss 0.02328355237841606\n",
            "epoch 20, loss 0.023233089596033096, eval loss 0.19493579864501953\n",
            "epoch 21, loss 0.022112920880317688\n",
            "epoch 22, loss 0.021186595782637596\n",
            "epoch 23, loss 0.01998613029718399\n",
            "epoch 24, loss 0.01807490736246109\n",
            "epoch 25, loss 0.01638776622712612\n",
            "epoch 26, loss 0.014591746963560581\n",
            "epoch 27, loss 0.013519827276468277\n",
            "epoch 28, loss 0.013208556920289993\n",
            "epoch 29, loss 0.013605831190943718\n",
            "epoch 30, loss 0.013542520813643932\n",
            "epoch 31, loss 0.011604292318224907\n",
            "epoch 32, loss 0.009487864561378956\n",
            "epoch 33, loss 0.008035022765398026\n",
            "epoch 34, loss 0.007624882273375988\n",
            "epoch 35, loss 0.007337397430092096\n",
            "epoch 36, loss 0.006925900932401419\n",
            "epoch 37, loss 0.0056915562599897385\n",
            "epoch 38, loss 0.004305979236960411\n",
            "epoch 39, loss 0.0038566479925066233\n",
            "epoch 40, loss 0.0049529243260622025, eval loss 0.00933796726167202\n",
            "epoch 41, loss 0.003847399726510048\n",
            "epoch 42, loss 0.003120934823527932\n",
            "epoch 43, loss 0.0032393867149949074\n",
            "epoch 44, loss 0.0036515251267701387\n",
            "epoch 45, loss 0.0033502725418657064\n",
            "epoch 46, loss 0.002760011237114668\n",
            "epoch 47, loss 0.002531429287046194\n",
            "epoch 48, loss 0.0030843885615468025\n",
            "epoch 49, loss 0.002884391462430358\n",
            "epoch 50, loss 0.002296837279573083\n",
            "epoch 51, loss 0.002175730187445879\n",
            "epoch 52, loss 0.0022453174460679293\n",
            "epoch 53, loss 0.0021384907886385918\n",
            "epoch 54, loss 0.002039059065282345\n",
            "epoch 55, loss 0.001753118820488453\n",
            "epoch 56, loss 0.0017142579890787601\n",
            "epoch 57, loss 0.0018455786630511284\n",
            "epoch 58, loss 0.0017304786015301943\n",
            "epoch 59, loss 0.0016600931994616985\n",
            "epoch 60, loss 0.0015128275845199823, eval loss 0.03973778337240219\n",
            "epoch 61, loss 0.0015569457318633795\n",
            "epoch 62, loss 0.001522518927231431\n",
            "epoch 63, loss 0.0015970516251400113\n",
            "epoch 64, loss 0.0014652430545538664\n",
            "epoch 65, loss 0.001395577797666192\n",
            "epoch 66, loss 0.0014105773298069835\n",
            "epoch 67, loss 0.0015235469909384847\n",
            "epoch 68, loss 0.0015599686885252595\n",
            "epoch 69, loss 0.0013413333799690008\n",
            "epoch 70, loss 0.0013670527841895819\n",
            "epoch 71, loss 0.001401602174155414\n",
            "epoch 72, loss 0.0014056129148229957\n",
            "epoch 73, loss 0.0012768240412697196\n",
            "epoch 74, loss 0.0012868924532085657\n",
            "epoch 75, loss 0.0013293056981638074\n",
            "epoch 76, loss 0.001283230958506465\n",
            "epoch 77, loss 0.001417582738213241\n",
            "epoch 78, loss 0.0013224276481196284\n",
            "epoch 79, loss 0.0013294359669089317\n",
            "epoch 80, loss 0.0013614289928227663, eval loss 0.04138220101594925\n",
            "epoch 81, loss 0.001311311381869018\n",
            "epoch 82, loss 0.0014473022893071175\n",
            "epoch 83, loss 0.0013394654961302876\n",
            "epoch 84, loss 0.0011749177938327193\n",
            "epoch 85, loss 0.0011813793098554015\n",
            "epoch 86, loss 0.0013221094850450754\n",
            "epoch 87, loss 0.0012439475394785404\n",
            "epoch 88, loss 0.0012839104747399688\n",
            "epoch 89, loss 0.001148698735050857\n",
            "epoch 90, loss 0.0012020127614960074\n",
            "epoch 91, loss 0.0012002036673948169\n",
            "epoch 92, loss 0.0011803879169747233\n",
            "epoch 93, loss 0.0012445178581401706\n",
            "epoch 94, loss 0.0012940485030412674\n",
            "epoch 95, loss 0.0012752225156873465\n",
            "epoch 96, loss 0.0012751944595947862\n",
            "epoch 97, loss 0.0012464203173294663\n",
            "epoch 98, loss 0.0012212453875690699\n",
            "epoch 99, loss 0.001268133637495339\n",
            "epoch 100, loss 0.0011402753880247474, eval loss 0.03113773837685585\n",
            "epoch 101, loss 0.0012779019307345152\n",
            "epoch 102, loss 0.0012489763321354985\n",
            "epoch 103, loss 0.0012090441305190325\n",
            "epoch 104, loss 0.0012668619165197015\n",
            "epoch 105, loss 0.0012489722575992346\n",
            "epoch 106, loss 0.001168334623798728\n",
            "epoch 107, loss 0.0011803937377408147\n",
            "epoch 108, loss 0.0011750870617106557\n",
            "epoch 109, loss 0.001281645498238504\n",
            "epoch 110, loss 0.0011997891124337912\n",
            "epoch 111, loss 0.0012517140712589025\n",
            "epoch 112, loss 0.001114842016249895\n",
            "epoch 113, loss 0.0010987542336806655\n",
            "epoch 114, loss 0.0012567928060889244\n",
            "epoch 115, loss 0.001220707199536264\n",
            "epoch 116, loss 0.0011168458731845021\n",
            "epoch 117, loss 0.0011546920286491513\n",
            "epoch 118, loss 0.0010719365673139691\n",
            "epoch 119, loss 0.0011173782404512167\n",
            "epoch 120, loss 0.0011091448832303286, eval loss 0.02545134350657463\n",
            "epoch 121, loss 0.0011276109144091606\n",
            "epoch 122, loss 0.0010934793390333652\n",
            "epoch 123, loss 0.0011648960644379258\n",
            "epoch 124, loss 0.0010939670028164983\n",
            "epoch 125, loss 0.0011470973258838058\n",
            "epoch 126, loss 0.0011821701191365719\n",
            "epoch 127, loss 0.0012099548475816846\n",
            "epoch 128, loss 0.0011074553476646543\n",
            "epoch 129, loss 0.0010456863092258573\n",
            "epoch 130, loss 0.0011151244398206472\n",
            "epoch 131, loss 0.0011580579448491335\n",
            "epoch 132, loss 0.0010276559041813016\n",
            "epoch 133, loss 0.0011954117799177766\n",
            "epoch 134, loss 0.0011279976461082697\n",
            "epoch 135, loss 0.0010364234913140535\n",
            "epoch 136, loss 0.0011458424851298332\n",
            "epoch 137, loss 0.0011493766214698553\n",
            "epoch 138, loss 0.0011601945152506232\n",
            "epoch 139, loss 0.0010343631729483604\n",
            "epoch 140, loss 0.0010935533791780472, eval loss 0.022202469408512115\n",
            "epoch 141, loss 0.0011427040444687009\n",
            "epoch 142, loss 0.0011270552640780807\n",
            "epoch 143, loss 0.001089767785742879\n",
            "epoch 144, loss 0.0009985783835873008\n",
            "epoch 145, loss 0.0010654112556949258\n",
            "epoch 146, loss 0.0010810763342306018\n",
            "epoch 147, loss 0.0011001069797202945\n",
            "epoch 148, loss 0.0010904110968112946\n",
            "epoch 149, loss 0.0011459107045084238\n",
            "epoch 150, loss 0.00109712197445333\n",
            "epoch 151, loss 0.001014627399854362\n",
            "epoch 152, loss 0.001119566848501563\n",
            "epoch 153, loss 0.001050256541930139\n",
            "epoch 154, loss 0.0010549856815487146\n",
            "epoch 155, loss 0.0012094127014279366\n",
            "epoch 156, loss 0.0010717505356296897\n",
            "epoch 157, loss 0.0010711614741012454\n",
            "epoch 158, loss 0.0010734150419011712\n",
            "epoch 159, loss 0.0011178796412423253\n",
            "epoch 160, loss 0.0010251478524878621, eval loss 0.01778104156255722\n",
            "epoch 161, loss 0.001022610696963966\n",
            "epoch 162, loss 0.0010417080484330654\n",
            "epoch 163, loss 0.001075497712008655\n",
            "epoch 164, loss 0.0010299582500010729\n",
            "epoch 165, loss 0.0010533590102568269\n",
            "epoch 166, loss 0.0011246654903516173\n",
            "epoch 167, loss 0.0010463810758665204\n",
            "epoch 168, loss 0.001090183388441801\n",
            "epoch 169, loss 0.000987902982160449\n",
            "epoch 170, loss 0.0010840801987797022\n",
            "epoch 171, loss 0.0010823823977261782\n",
            "epoch 172, loss 0.0009876483818516135\n",
            "epoch 173, loss 0.001073255087248981\n",
            "epoch 174, loss 0.001002742093987763\n",
            "epoch 175, loss 0.0010923754889518023\n",
            "epoch 176, loss 0.0009560886537656188\n",
            "epoch 177, loss 0.0010334221879020333\n",
            "epoch 178, loss 0.0009857910918071866\n",
            "epoch 179, loss 0.0010366878705099225\n",
            "epoch 180, loss 0.0010780056472867727, eval loss 0.01678426004946232\n",
            "epoch 181, loss 0.0010024526854977012\n",
            "epoch 182, loss 0.0011296235024929047\n",
            "epoch 183, loss 0.001046717632561922\n",
            "epoch 184, loss 0.0010358002036809921\n",
            "epoch 185, loss 0.0010105825494974852\n",
            "epoch 186, loss 0.0010604462586343288\n",
            "epoch 187, loss 0.0009409053018316627\n",
            "epoch 188, loss 0.0009809961775317788\n",
            "epoch 189, loss 0.0009965404169633985\n",
            "epoch 190, loss 0.0009726143907755613\n",
            "epoch 191, loss 0.0009843878215178847\n",
            "epoch 192, loss 0.0010731895454227924\n",
            "epoch 193, loss 0.0009854811942204833\n",
            "epoch 194, loss 0.0010005298536270857\n",
            "epoch 195, loss 0.001046617515385151\n",
            "epoch 196, loss 0.001025665202178061\n",
            "epoch 197, loss 0.0008908971212804317\n",
            "epoch 198, loss 0.0010393282864242792\n",
            "epoch 199, loss 0.001031598076224327\n",
            "epoch 200, loss 0.0009286191198043525, eval loss 0.014263532124459743\n",
            "epoch 201, loss 0.001005941885523498\n",
            "epoch 202, loss 0.001057246932759881\n",
            "epoch 203, loss 0.0010544845135882497\n",
            "epoch 204, loss 0.0010084416717290878\n",
            "epoch 205, loss 0.000970422406680882\n",
            "epoch 206, loss 0.000961338693741709\n",
            "epoch 207, loss 0.001014110748656094\n",
            "epoch 208, loss 0.000984331825748086\n",
            "epoch 209, loss 0.0010284342570230365\n",
            "epoch 210, loss 0.0009855017997324467\n",
            "epoch 211, loss 0.0009360417607240379\n",
            "epoch 212, loss 0.0008622700697742403\n",
            "epoch 213, loss 0.0009534468990750611\n",
            "epoch 214, loss 0.0010129723232239485\n",
            "epoch 215, loss 0.0009746559080667794\n",
            "epoch 216, loss 0.0009237921331077814\n",
            "epoch 217, loss 0.0009865901665762067\n",
            "epoch 218, loss 0.0010027780663222075\n",
            "epoch 219, loss 0.0009292204049415886\n",
            "epoch 220, loss 0.000919000303838402, eval loss 0.014904686249792576\n",
            "epoch 221, loss 0.000965756771620363\n",
            "epoch 222, loss 0.0009559041354805231\n",
            "epoch 223, loss 0.0008723943028599024\n",
            "epoch 224, loss 0.0010235699592158198\n",
            "epoch 225, loss 0.0009530672105029225\n",
            "epoch 226, loss 0.0009414051892235875\n",
            "epoch 227, loss 0.0009604654042050242\n",
            "epoch 228, loss 0.0009886008920148015\n",
            "epoch 229, loss 0.0010185650316998363\n",
            "epoch 230, loss 0.0010141012025997043\n",
            "epoch 231, loss 0.0009544388158246875\n",
            "epoch 232, loss 0.0010098895290866494\n",
            "epoch 233, loss 0.000953545852098614\n",
            "epoch 234, loss 0.0010075116297230124\n",
            "epoch 235, loss 0.0009380376432090998\n",
            "epoch 236, loss 0.0009385066223330796\n",
            "epoch 237, loss 0.0008812873275019228\n",
            "epoch 238, loss 0.0010071618016809225\n",
            "epoch 239, loss 0.0009327057632617652\n",
            "epoch 240, loss 0.00092960090842098, eval loss 0.011987647041678429\n",
            "epoch 241, loss 0.0008637880091555417\n",
            "epoch 242, loss 0.000905766966752708\n",
            "epoch 243, loss 0.0009132108534686267\n",
            "epoch 244, loss 0.0009637784096412361\n",
            "epoch 245, loss 0.0008715009316802025\n",
            "epoch 246, loss 0.0009126924560405314\n",
            "epoch 247, loss 0.0008975320961326361\n",
            "epoch 248, loss 0.000922034028917551\n",
            "epoch 249, loss 0.0009321424877271056\n",
            "epoch 250, loss 0.000836289138533175\n",
            "epoch 251, loss 0.0009132286068052053\n",
            "epoch 252, loss 0.000877932645380497\n",
            "epoch 253, loss 0.0009368647588416934\n",
            "epoch 254, loss 0.000894830678589642\n",
            "epoch 255, loss 0.0009509922238066792\n",
            "epoch 256, loss 0.000983650330454111\n",
            "epoch 257, loss 0.0008928708848543465\n",
            "epoch 258, loss 0.0009166400413960218\n",
            "epoch 259, loss 0.0009112735278904438\n",
            "epoch 260, loss 0.0008429466979578137, eval loss 0.01043123658746481\n",
            "epoch 261, loss 0.0009701920789666474\n",
            "epoch 262, loss 0.0008232825784943998\n",
            "epoch 263, loss 0.0008824807009659708\n",
            "epoch 264, loss 0.0008621930610388517\n",
            "epoch 265, loss 0.0008923769928514957\n",
            "epoch 266, loss 0.0009002236183732748\n",
            "epoch 267, loss 0.0008706981316208839\n",
            "epoch 268, loss 0.0009009901550598443\n",
            "epoch 269, loss 0.0009346041479147971\n",
            "epoch 270, loss 0.0009300305973738432\n",
            "epoch 271, loss 0.0008504517027176917\n",
            "epoch 272, loss 0.0008711807313375175\n",
            "epoch 273, loss 0.0009747131844051182\n",
            "epoch 274, loss 0.0008255743305198848\n",
            "epoch 275, loss 0.0009291527094319463\n",
            "epoch 276, loss 0.0008802466909401119\n",
            "epoch 277, loss 0.0008262079791165888\n",
            "epoch 278, loss 0.0007923463708721101\n",
            "epoch 279, loss 0.0009011557558551431\n",
            "epoch 280, loss 0.0008274671854451299, eval loss 0.00740100396797061\n",
            "epoch 281, loss 0.0009686583653092384\n",
            "epoch 282, loss 0.0008472039480693638\n",
            "epoch 283, loss 0.0008126444881781936\n",
            "epoch 284, loss 0.0008844916592352092\n",
            "epoch 285, loss 0.0008623304893262684\n",
            "epoch 286, loss 0.0008100414415821433\n",
            "epoch 287, loss 0.0008470741449855268\n",
            "epoch 288, loss 0.0008690601098351181\n",
            "epoch 289, loss 0.0008003585389815271\n",
            "epoch 290, loss 0.0008850164012983441\n",
            "epoch 291, loss 0.0008888624724932015\n",
            "epoch 292, loss 0.000833839294500649\n",
            "epoch 293, loss 0.0008165372419171035\n",
            "epoch 294, loss 0.000884781708009541\n",
            "epoch 295, loss 0.0009073572000488639\n",
            "epoch 296, loss 0.0007631068001501262\n",
            "epoch 297, loss 0.0008725521620362997\n",
            "epoch 298, loss 0.0008102043066173792\n",
            "epoch 299, loss 0.0008082473650574684\n"
          ]
        }
      ],
      "source": [
        "history = []\n",
        "history_eval_loss = []\n",
        "X_test_cuda = torch.tensor(X_test).float()\n",
        "y_test_cuda = torch.tensor(y_test).float()\n",
        "\n",
        "# we use all the data in one batch\n",
        "inputs_cuda = torch.tensor(X_train).float()\n",
        "labels_cuda = torch.tensor(y_train).float()\n",
        "\n",
        "for epoch in range(300):\n",
        "    # rnn.train()\n",
        "    output, _ = rnn(inputs_cuda, hidden_state)\n",
        "    # print(output.size())\n",
        "\n",
        "    loss = criterion(output[:,0,:].view(-1), labels_cuda)\n",
        "    optimiser.zero_grad()\n",
        "    loss.backward()                     \n",
        "    optimiser.step()                    \n",
        "\n",
        "    if epoch % 20 == 0:\n",
        "        with torch.no_grad():\n",
        "            test_output, _ = rnn(X_test_cuda, hidden_state)\n",
        "            test_loss = criterion(test_output.view(-1), y_test_cuda)\n",
        "            print('epoch {}, loss {}, eval loss {}'.format(epoch, loss.item(), test_loss.item()))\n",
        "            history_eval_loss.append(test_loss.item())\n",
        "    else:\n",
        "        print('epoch {}, loss {}'.format(epoch, loss.item()))\n",
        "    history.append(loss.item())"
      ]
    },
    {
      "cell_type": "code",
      "execution_count": 19,
      "metadata": {
        "colab": {
          "base_uri": "https://localhost:8080/"
        },
        "id": "7jxit4ppO9Q4",
        "outputId": "9a386df7-f4bd-48d0-83fd-dcb74bef1d27"
      },
      "outputs": [
        {
          "data": {
            "text/plain": [
              "Parameter containing:\n",
              "tensor([[-0.0324, -0.0358, -0.0201,  0.0128,  0.0962,  0.0077,  0.0535,  0.0430,\n",
              "         -0.0844, -0.1062,  0.1126,  0.0498, -0.0363, -0.0045, -0.0226, -0.0087,\n",
              "          0.0974,  0.0922,  0.0878, -0.1175,  0.1168, -0.1014, -0.0779, -0.0947,\n",
              "          0.1028, -0.0210,  0.1109,  0.0187,  0.0926, -0.1226,  0.0157, -0.1081,\n",
              "          0.0308, -0.0109, -0.1063, -0.0409,  0.0192, -0.0426, -0.1180,  0.1018,\n",
              "          0.1135, -0.0709, -0.0763,  0.0455,  0.0375,  0.0088, -0.0954, -0.0888,\n",
              "         -0.0948, -0.0477, -0.0449, -0.0708, -0.0143,  0.0168,  0.0506,  0.0096,\n",
              "         -0.0075, -0.1091,  0.0094,  0.1179,  0.0752, -0.0004, -0.0979,  0.0564]],\n",
              "       requires_grad=True)"
            ]
          },
          "execution_count": 19,
          "metadata": {},
          "output_type": "execute_result"
        }
      ],
      "source": [
        "rnn.out.weight"
      ]
    },
    {
      "cell_type": "code",
      "execution_count": 20,
      "metadata": {
        "id": "4SysHfTsOtPz"
      },
      "outputs": [
        {
          "name": "stdout",
          "output_type": "stream",
          "text": [
            "tensor([[-0.1120,  0.0522, -0.0647,  ...,  0.0949, -0.0251,  0.1233],\n",
            "        [ 0.0879,  0.1417, -0.0112,  ..., -0.0059,  0.0931,  0.0999],\n",
            "        [ 0.1075,  0.0167,  0.0665,  ...,  0.1471,  0.0108,  0.0460],\n",
            "        ...,\n",
            "        [-0.0693,  0.0772, -0.1073,  ...,  0.0595, -0.1098, -0.0231],\n",
            "        [-0.1485,  0.0217, -0.1689,  ..., -0.1230,  0.0056, -0.0550],\n",
            "        [ 0.0789,  0.1135,  0.0253,  ...,  0.0011, -0.0955, -0.0196]])\n",
            "tensor([[-0.1398,  0.1252, -0.0773,  ...,  0.0586, -0.1279, -0.0868],\n",
            "        [-0.1274, -0.1088,  0.0283,  ..., -0.0734, -0.0614, -0.1155],\n",
            "        [ 0.0744, -0.0050, -0.0708,  ...,  0.0596,  0.0762,  0.0868],\n",
            "        ...,\n",
            "        [-0.0192, -0.0184,  0.0965,  ..., -0.0570,  0.1162,  0.0178],\n",
            "        [ 0.1122,  0.1010,  0.0092,  ..., -0.0032, -0.0022, -0.0448],\n",
            "        [ 0.0905, -0.0599, -0.0020,  ...,  0.0656, -0.1257,  0.0055]])\n",
            "tensor([ 0.0315, -0.1082,  0.0346,  0.1415,  0.0685, -0.0696, -0.0105,  0.0096,\n",
            "         0.0179, -0.0112,  0.1015, -0.0522,  0.0466,  0.1165,  0.0259,  0.0899,\n",
            "        -0.0292, -0.0492, -0.0417, -0.0735, -0.0393,  0.0663,  0.0791, -0.0978,\n",
            "         0.0959, -0.0992, -0.0559,  0.0050, -0.0454, -0.0535, -0.0393,  0.1371,\n",
            "         0.0092,  0.0064, -0.0376,  0.0669,  0.1169,  0.1008,  0.0813,  0.0898,\n",
            "         0.0169,  0.0533,  0.0958, -0.0865, -0.0769, -0.1178, -0.0152,  0.1373,\n",
            "        -0.0009,  0.0717, -0.0276, -0.0473, -0.0108,  0.1256,  0.0285, -0.0985,\n",
            "        -0.0117,  0.0069,  0.0290,  0.0973,  0.0796, -0.0791, -0.0706, -0.0977,\n",
            "        -0.1076, -0.0136,  0.0198,  0.0253,  0.0230, -0.0885,  0.0622,  0.0906,\n",
            "         0.0148, -0.0463,  0.1545, -0.0093, -0.0106,  0.0214, -0.0754, -0.0551,\n",
            "         0.0766,  0.0830,  0.0764,  0.0123,  0.0686,  0.0769,  0.0945,  0.0853,\n",
            "        -0.0298, -0.0664, -0.0815, -0.0337,  0.0007, -0.1016,  0.0272, -0.0406,\n",
            "        -0.0070, -0.0465, -0.0665, -0.1085,  0.0133,  0.0798,  0.0653,  0.0050,\n",
            "         0.0916, -0.0784, -0.0792,  0.0742,  0.0461, -0.0816, -0.0585, -0.0754,\n",
            "         0.0660, -0.1085,  0.0709,  0.0386,  0.0130,  0.0038, -0.1051,  0.0917,\n",
            "        -0.0354,  0.0637,  0.1022, -0.1040, -0.1117,  0.1092, -0.1235, -0.0417,\n",
            "         0.1030, -0.1050, -0.1261, -0.0917, -0.0709,  0.0392,  0.0738,  0.0703,\n",
            "         0.0095, -0.0983, -0.0161,  0.0794, -0.0282,  0.0579, -0.0775,  0.0770,\n",
            "         0.0452, -0.0221,  0.0988,  0.0031, -0.1130, -0.0852, -0.0656,  0.0418,\n",
            "        -0.0522,  0.1205,  0.1226,  0.0563,  0.0814,  0.0430,  0.0817, -0.0411,\n",
            "         0.1082,  0.0309, -0.0411,  0.0615,  0.0675, -0.0434, -0.0638,  0.1299,\n",
            "        -0.0456,  0.0864, -0.1077, -0.0800,  0.1087,  0.0989,  0.0430,  0.0865,\n",
            "        -0.0164,  0.0555,  0.0058, -0.0220, -0.0187, -0.0138, -0.1189,  0.0667,\n",
            "         0.0493,  0.0471, -0.0313,  0.0856, -0.0267, -0.0493, -0.0806, -0.0985,\n",
            "        -0.1123,  0.0172,  0.0210,  0.0504,  0.0703,  0.1065, -0.0768,  0.0662,\n",
            "        -0.0437, -0.0998,  0.1326, -0.0026, -0.0627,  0.0126, -0.0395,  0.0894,\n",
            "        -0.0671,  0.1128, -0.0514, -0.0692, -0.0587,  0.0570,  0.0964,  0.0496,\n",
            "        -0.0484,  0.0223,  0.1058,  0.1370, -0.0135,  0.0318,  0.0449,  0.0643,\n",
            "         0.0192,  0.0650, -0.0423, -0.0670, -0.0444, -0.0906, -0.0842,  0.0428,\n",
            "         0.0403, -0.1082,  0.0035,  0.1339,  0.0511, -0.0722,  0.0959,  0.0023,\n",
            "         0.1868,  0.1025, -0.0593,  0.0440,  0.0447, -0.0164,  0.0257,  0.0712,\n",
            "        -0.1121,  0.1189, -0.1250, -0.1161, -0.0792, -0.1109,  0.0316,  0.0869])\n",
            "tensor([-0.0966, -0.0772, -0.0187, -0.0339, -0.0619, -0.0291, -0.0290, -0.1217,\n",
            "         0.0777, -0.0938, -0.0645,  0.0700, -0.0205, -0.0250,  0.0121, -0.0225,\n",
            "         0.0091,  0.1229,  0.1179, -0.0964, -0.0585,  0.0691, -0.0132,  0.0347,\n",
            "        -0.0068,  0.1267,  0.0859,  0.1563,  0.0222,  0.0437,  0.1348,  0.0113,\n",
            "         0.0429, -0.0660,  0.0724,  0.1035, -0.0547, -0.0311,  0.0226,  0.1144,\n",
            "         0.0728, -0.0390, -0.0645,  0.1104,  0.0556, -0.1265,  0.0785, -0.0012,\n",
            "        -0.0171, -0.0946,  0.1278, -0.1005, -0.0141,  0.0644, -0.1345,  0.0786,\n",
            "         0.0850,  0.0247,  0.1032, -0.1148, -0.1158, -0.0752,  0.0620,  0.0281,\n",
            "        -0.1161,  0.0136,  0.1324, -0.0854,  0.1106, -0.0556, -0.0431, -0.0528,\n",
            "         0.0577,  0.0725,  0.0905,  0.0923,  0.1197, -0.0580, -0.0309, -0.1119,\n",
            "         0.0313,  0.0161,  0.0396, -0.0637,  0.0790,  0.0419, -0.0095, -0.0355,\n",
            "        -0.0915, -0.0635, -0.0032, -0.0725, -0.0610, -0.0324,  0.0088,  0.0529,\n",
            "         0.0741,  0.0328, -0.0925,  0.0205, -0.1133, -0.0064, -0.0166, -0.0809,\n",
            "        -0.0673, -0.0124, -0.0603,  0.0644, -0.0009, -0.1058, -0.0975, -0.0306,\n",
            "         0.0741, -0.0052,  0.1254, -0.0606,  0.1236,  0.0073, -0.0953, -0.0278,\n",
            "         0.0057, -0.0236,  0.0109,  0.0286,  0.0235, -0.0327, -0.1057, -0.1235,\n",
            "        -0.0046, -0.0334, -0.0495,  0.0616,  0.1327,  0.0003,  0.0177,  0.0799,\n",
            "        -0.1168, -0.0178, -0.0282, -0.0654, -0.1426,  0.1059, -0.0486,  0.1112,\n",
            "        -0.0305,  0.1216, -0.0756, -0.0921,  0.0961, -0.1026,  0.0153,  0.0612,\n",
            "        -0.0866,  0.0186, -0.0726,  0.0641, -0.0890, -0.0785, -0.0795,  0.0339,\n",
            "        -0.0491,  0.0414,  0.1093, -0.0953,  0.0748, -0.0304, -0.0149, -0.0271,\n",
            "         0.0391,  0.0682, -0.1008,  0.0996,  0.0780,  0.0431, -0.0441, -0.1087,\n",
            "         0.1011,  0.0864,  0.1158, -0.0415, -0.0119, -0.0122,  0.1056, -0.0494,\n",
            "         0.0963,  0.0783, -0.1047, -0.1172, -0.0514, -0.0941,  0.1091, -0.0951,\n",
            "        -0.0538, -0.1069,  0.0195,  0.0429,  0.0897,  0.0033,  0.0292, -0.0177,\n",
            "         0.1016, -0.0781, -0.0883,  0.0326,  0.0419,  0.0147,  0.0605, -0.0649,\n",
            "         0.0869, -0.1076,  0.0135, -0.0610,  0.0808, -0.1279,  0.0843,  0.0809,\n",
            "         0.0244,  0.0546,  0.1464,  0.1000,  0.0642,  0.0625,  0.0046,  0.0123,\n",
            "         0.1102,  0.0158, -0.0276,  0.0304,  0.0707, -0.1122, -0.0392,  0.0580,\n",
            "         0.1175,  0.0251,  0.0703, -0.0311, -0.0800, -0.0803,  0.0562, -0.0317,\n",
            "         0.1584, -0.0555,  0.0398,  0.1311,  0.0926, -0.0754, -0.1014,  0.0493,\n",
            "         0.0155,  0.0927, -0.1184, -0.0948, -0.0919, -0.1201, -0.0580,  0.0779])\n",
            "tensor([[ 0.0325, -0.0558, -0.0033,  ..., -0.0665, -0.1188, -0.0057],\n",
            "        [-0.0348,  0.0803, -0.1077,  ..., -0.0833,  0.0065, -0.0915],\n",
            "        [ 0.0857, -0.0757, -0.0863,  ..., -0.0945,  0.0199, -0.0063],\n",
            "        ...,\n",
            "        [ 0.1224,  0.0988,  0.0660,  ...,  0.0769, -0.0425,  0.1097],\n",
            "        [-0.0865,  0.0515,  0.1231,  ..., -0.0625,  0.0664,  0.0443],\n",
            "        [-0.0296, -0.0656, -0.0795,  ...,  0.0961, -0.0570, -0.0088]])\n",
            "tensor([[-0.0797,  0.1316,  0.0691,  ...,  0.1285,  0.0138,  0.0390],\n",
            "        [-0.0835, -0.1064, -0.0808,  ..., -0.1111, -0.0683,  0.0036],\n",
            "        [ 0.0479,  0.0011,  0.0572,  ...,  0.0405, -0.0275, -0.0228],\n",
            "        ...,\n",
            "        [ 0.1015,  0.0656,  0.0184,  ..., -0.0246,  0.0788, -0.0729],\n",
            "        [ 0.1517, -0.1266, -0.0355,  ..., -0.0072, -0.0505,  0.0174],\n",
            "        [ 0.0694,  0.1148,  0.0011,  ..., -0.0301, -0.0415, -0.0157]])\n",
            "tensor([-0.0702,  0.0145,  0.0089,  0.1264, -0.0139, -0.0094,  0.0870, -0.0238,\n",
            "         0.0942,  0.0373,  0.0527,  0.0593,  0.0624,  0.0466, -0.0977,  0.0204,\n",
            "        -0.0049,  0.0157, -0.0402,  0.0146, -0.0193, -0.1148, -0.0535,  0.0656,\n",
            "        -0.0641,  0.0279,  0.0187,  0.0979,  0.1271,  0.0592, -0.0363, -0.1005,\n",
            "         0.1067,  0.0561,  0.1582,  0.0095, -0.0719,  0.0786,  0.0674,  0.0132,\n",
            "        -0.0480,  0.0249,  0.0729,  0.0517, -0.0973, -0.1090, -0.0813,  0.0547,\n",
            "         0.0660, -0.0833, -0.0096,  0.0734,  0.0688, -0.1050,  0.0006,  0.0089,\n",
            "        -0.0951,  0.0034,  0.0844,  0.1138,  0.1021,  0.0050,  0.1102, -0.0593,\n",
            "        -0.0457,  0.1115,  0.0017, -0.1208,  0.0929,  0.1089,  0.0947, -0.0417,\n",
            "        -0.0204, -0.1224, -0.0600,  0.1111,  0.0385,  0.0981, -0.1255,  0.0708,\n",
            "        -0.0375, -0.0230,  0.0342, -0.0635, -0.0580, -0.0946, -0.0187,  0.0185,\n",
            "        -0.0405, -0.1343,  0.1241, -0.1235, -0.0608,  0.0358,  0.0937, -0.0591,\n",
            "        -0.0715, -0.0853,  0.0617, -0.0874, -0.1056, -0.0763, -0.0680,  0.1005,\n",
            "         0.0100, -0.0980,  0.1220,  0.1092, -0.1319,  0.0383, -0.0100,  0.1301,\n",
            "        -0.0583,  0.0937,  0.0202,  0.0246,  0.0471, -0.0527,  0.0052, -0.1415,\n",
            "         0.0533, -0.0314, -0.1138,  0.0392, -0.0876, -0.0078,  0.1085, -0.1114,\n",
            "         0.0982, -0.0703,  0.1159,  0.1132,  0.0576, -0.0492, -0.0830, -0.0353,\n",
            "         0.0746, -0.0875,  0.0055,  0.0697,  0.0860,  0.0226,  0.0878,  0.0415,\n",
            "         0.0101, -0.0208, -0.1119, -0.0341,  0.0869,  0.1237,  0.1166,  0.0815,\n",
            "         0.1266, -0.0987,  0.0246, -0.1037, -0.0280, -0.0368, -0.0078, -0.0041,\n",
            "        -0.1306, -0.0595, -0.0530,  0.1182, -0.1039, -0.0121, -0.0480,  0.0474,\n",
            "        -0.0227, -0.1166, -0.0262, -0.1015, -0.0826, -0.1174, -0.1273,  0.1010,\n",
            "         0.0657, -0.0337,  0.0910, -0.1000,  0.0911,  0.1135, -0.0976,  0.0938,\n",
            "         0.0375,  0.0422,  0.0271,  0.0168, -0.0708, -0.0586,  0.0765, -0.0411,\n",
            "         0.1115,  0.1092, -0.0352,  0.0627, -0.0378,  0.1213, -0.0814, -0.0935,\n",
            "        -0.0298, -0.0172,  0.1220, -0.0238, -0.0164,  0.0427, -0.0924, -0.1022,\n",
            "        -0.0756, -0.0451,  0.0555, -0.0944,  0.0861, -0.0112, -0.0933,  0.1006,\n",
            "        -0.0481, -0.1043,  0.0478, -0.1185,  0.1525,  0.0742,  0.0714, -0.0076,\n",
            "         0.1400, -0.0419,  0.1671,  0.0261, -0.0602,  0.1117, -0.0185,  0.0042,\n",
            "        -0.0668,  0.0688, -0.0596,  0.1057, -0.0868,  0.0857, -0.0900, -0.0980,\n",
            "        -0.0198,  0.0722,  0.1036,  0.0411, -0.0258,  0.0500, -0.0437, -0.1101,\n",
            "        -0.0037, -0.0705, -0.0926,  0.0593, -0.1073,  0.0877, -0.0180, -0.0915])\n",
            "tensor([ 0.0455, -0.0939, -0.0124, -0.0557,  0.0710, -0.0786,  0.0977,  0.0876,\n",
            "        -0.0826,  0.0139, -0.0916, -0.1191, -0.0596, -0.0774,  0.0508,  0.0654,\n",
            "         0.0496,  0.0037, -0.0826,  0.0864,  0.0338,  0.0793, -0.0580, -0.1173,\n",
            "         0.0259,  0.0570,  0.0474,  0.0114, -0.0098, -0.0694, -0.0076,  0.0391,\n",
            "        -0.0041, -0.0622,  0.2118,  0.0830,  0.0224,  0.1125,  0.0941,  0.0630,\n",
            "         0.0701, -0.0194, -0.0227,  0.0616, -0.1083, -0.0700,  0.0507, -0.0606,\n",
            "        -0.0220, -0.0855,  0.0547,  0.0479,  0.0973,  0.0604,  0.1154, -0.0872,\n",
            "        -0.0549,  0.0320, -0.0297, -0.0778, -0.0162,  0.0030, -0.0819,  0.0951,\n",
            "        -0.1337,  0.1039, -0.0620,  0.1163, -0.0392,  0.0704, -0.0528,  0.0111,\n",
            "        -0.0066,  0.0310, -0.1261,  0.0106, -0.0080, -0.1282, -0.0614, -0.0103,\n",
            "        -0.0999,  0.0175,  0.1113,  0.0632, -0.0362, -0.0774,  0.0768,  0.0498,\n",
            "        -0.0126, -0.0280,  0.0866, -0.1046,  0.0283,  0.0668,  0.0776,  0.0026,\n",
            "         0.0360, -0.0147,  0.1324, -0.0595, -0.0799,  0.0803, -0.0138,  0.0368,\n",
            "         0.0195,  0.0549, -0.0619, -0.0920, -0.1121,  0.0108, -0.0461,  0.0193,\n",
            "         0.0408, -0.0240, -0.0627, -0.0512,  0.0396, -0.0970,  0.0667,  0.0134,\n",
            "         0.0877, -0.0900,  0.0691,  0.0182,  0.0005,  0.0297, -0.1204,  0.0701,\n",
            "        -0.0995,  0.0242,  0.0082, -0.0751, -0.1001, -0.0665,  0.0718,  0.0598,\n",
            "        -0.0997, -0.0068,  0.0299, -0.0121, -0.1150, -0.0368,  0.0982, -0.1061,\n",
            "         0.1077, -0.0414, -0.1149,  0.1142,  0.0319, -0.1116,  0.0366, -0.0573,\n",
            "        -0.0364,  0.0123, -0.0593, -0.0288, -0.0145,  0.0019, -0.1186, -0.1169,\n",
            "         0.0927,  0.0941, -0.0309, -0.0280, -0.0049,  0.0973, -0.0127, -0.0988,\n",
            "         0.0597, -0.0850,  0.0930,  0.1111,  0.0650, -0.0320,  0.0875, -0.0298,\n",
            "        -0.0480, -0.0125,  0.0433, -0.0301, -0.0100,  0.0467,  0.1067,  0.0577,\n",
            "        -0.0121, -0.1102, -0.0053,  0.0768,  0.0918,  0.0311, -0.0688, -0.0411,\n",
            "        -0.0470,  0.1371,  0.0615, -0.0592,  0.0878,  0.0531,  0.0206,  0.1027,\n",
            "        -0.0397,  0.0190, -0.0112, -0.0735, -0.0051,  0.0319, -0.1249,  0.0095,\n",
            "         0.1132, -0.0767,  0.0318,  0.0494,  0.0887,  0.0661, -0.0354,  0.1241,\n",
            "        -0.0435, -0.1003, -0.0859, -0.1131, -0.0800,  0.0338,  0.0631,  0.1161,\n",
            "         0.0342, -0.0118,  0.0549,  0.1108,  0.0073,  0.0799,  0.0473, -0.0014,\n",
            "         0.0282, -0.1254,  0.0263,  0.1153,  0.0576, -0.0100, -0.0215,  0.0648,\n",
            "        -0.0301, -0.1073, -0.0719,  0.0725,  0.0685,  0.0181,  0.0291,  0.0987,\n",
            "        -0.0237,  0.0023,  0.0216,  0.0559, -0.0972,  0.0891,  0.1295, -0.1189])\n",
            "tensor([[ 0.0943, -0.1161,  0.0435,  ..., -0.1107, -0.1110, -0.0904],\n",
            "        [-0.1378,  0.0456, -0.1214,  ..., -0.1487, -0.0740, -0.0722],\n",
            "        [-0.0784,  0.1139, -0.0800,  ...,  0.0159, -0.0183, -0.0494],\n",
            "        ...,\n",
            "        [ 0.0876,  0.0999, -0.1174,  ...,  0.0704, -0.0031,  0.1262],\n",
            "        [ 0.0057,  0.0305,  0.0087,  ..., -0.0242, -0.0442,  0.0957],\n",
            "        [ 0.0291, -0.0706, -0.0045,  ..., -0.0446, -0.0442, -0.0888]])\n",
            "tensor([[-9.7812e-03, -8.4339e-02, -2.6532e-02,  ...,  1.2208e-01,\n",
            "         -7.1926e-02,  2.0858e-02],\n",
            "        [ 5.6233e-02,  5.8304e-02, -7.0838e-02,  ..., -1.5378e-02,\n",
            "          7.1910e-02,  1.2367e-01],\n",
            "        [ 2.9698e-02,  1.3215e-01, -7.1250e-02,  ...,  1.1172e-01,\n",
            "         -6.8281e-02, -1.2686e-01],\n",
            "        ...,\n",
            "        [-8.5634e-02,  1.2621e-04, -8.9509e-02,  ...,  7.7865e-02,\n",
            "         -1.0946e-01, -1.5337e-03],\n",
            "        [ 4.4517e-02, -3.0005e-02, -1.2941e-01,  ..., -2.0991e-03,\n",
            "         -1.2605e-01, -2.9387e-02],\n",
            "        [ 5.8865e-02, -5.6502e-02, -3.1221e-02,  ...,  7.9208e-03,\n",
            "          1.2112e-01,  4.4119e-02]])\n",
            "tensor([ 2.6714e-02,  6.3816e-02, -4.2523e-02, -3.6870e-02, -9.4026e-02,\n",
            "        -8.0764e-02, -1.1608e-01,  6.2977e-02, -1.0483e-01, -6.7599e-02,\n",
            "         1.1005e-01, -1.0523e-01, -4.6096e-02, -9.9350e-02, -9.7104e-02,\n",
            "        -9.3345e-02, -7.6311e-02,  1.0696e-01,  4.2586e-02, -6.2934e-02,\n",
            "         1.1553e-01, -5.3665e-02,  1.2349e-01,  1.2200e-01,  2.0949e-02,\n",
            "        -7.8665e-02,  3.7048e-02,  6.6767e-02,  8.2342e-02,  1.6650e-02,\n",
            "        -7.2592e-02, -4.7971e-02,  3.0181e-02,  1.7050e-02,  3.2363e-02,\n",
            "        -1.2161e-01,  4.6669e-02,  1.0043e-01,  1.2761e-01,  8.3870e-03,\n",
            "        -6.7495e-02,  1.1335e-01, -2.1775e-02,  1.0995e-01,  1.0837e-01,\n",
            "         7.6998e-02, -9.9220e-02,  1.7043e-02, -5.9697e-02,  1.0660e-01,\n",
            "        -8.6807e-02,  9.3918e-03, -1.3700e-01,  1.0748e-01,  1.2300e-02,\n",
            "         4.5214e-02, -3.7166e-02,  8.9314e-02,  2.9016e-02,  5.9145e-02,\n",
            "        -1.1644e-01, -1.1315e-01, -3.9728e-02,  5.4952e-02,  6.7972e-04,\n",
            "         7.4354e-02,  1.9223e-03, -3.6481e-02,  3.5879e-02, -8.2911e-02,\n",
            "        -1.1836e-01,  6.6468e-02, -6.1503e-02,  8.5705e-02,  5.1142e-02,\n",
            "        -9.9530e-02, -1.0288e-01,  7.7399e-02,  9.4300e-02,  7.7904e-02,\n",
            "        -1.0940e-01,  1.8569e-02, -8.2349e-02,  4.6305e-02,  8.1703e-02,\n",
            "        -4.5146e-02, -6.4828e-02, -1.1347e-01,  4.8690e-02, -6.6070e-02,\n",
            "        -7.5232e-03,  2.5550e-02, -9.6602e-05,  1.1737e-01,  6.5126e-02,\n",
            "        -7.4974e-02, -5.2956e-02,  4.4962e-02, -1.1311e-02,  7.8267e-02,\n",
            "         6.4126e-03, -1.6570e-02,  1.0226e-01,  3.9737e-02, -1.1566e-01,\n",
            "        -1.1764e-01, -1.1371e-01,  1.0628e-01,  6.7698e-02, -1.3209e-01,\n",
            "        -1.5487e-02,  8.5905e-02, -5.6878e-02,  1.3575e-02, -2.9048e-03,\n",
            "        -3.0431e-02,  1.0112e-01, -7.7404e-02, -8.3026e-02,  8.3911e-02,\n",
            "         8.9640e-02,  9.4456e-02, -5.2929e-02, -9.9324e-02, -4.4186e-02,\n",
            "        -9.1635e-02, -5.2836e-02,  9.9006e-02,  7.7199e-02, -1.0633e-01,\n",
            "         2.7389e-02, -7.7464e-02,  2.3838e-02,  4.2134e-02,  2.3219e-02,\n",
            "         7.5180e-02,  9.3909e-02, -1.2629e-01, -5.9840e-03, -4.3985e-02,\n",
            "        -6.0472e-02,  1.1150e-02,  1.0772e-01, -5.2845e-02, -2.5871e-02,\n",
            "        -7.3220e-02,  9.5910e-02, -6.1006e-02,  2.5554e-02, -5.4935e-02,\n",
            "        -2.9886e-02, -1.3959e-02,  8.2525e-02, -5.4196e-02, -1.3293e-02,\n",
            "         1.0032e-01,  1.5305e-02, -7.3572e-02, -5.9977e-02,  7.1994e-02,\n",
            "         2.7535e-03,  3.7785e-02,  1.1430e-01,  1.6413e-02, -9.2110e-02,\n",
            "        -7.9822e-02, -9.2792e-02, -1.1287e-01,  5.2399e-02, -2.1562e-02,\n",
            "        -1.0922e-01,  2.3368e-02,  1.2328e-01,  2.7678e-03,  1.1034e-01,\n",
            "         7.9140e-02, -4.5893e-02, -4.8457e-02, -1.0439e-01, -8.8261e-02,\n",
            "         1.0500e-01,  5.9644e-02,  3.6998e-02, -9.7947e-03,  1.9568e-02,\n",
            "        -4.4688e-02,  6.0530e-02,  9.5108e-02, -1.1436e-01, -1.1499e-01,\n",
            "        -7.8215e-02,  3.3561e-03,  1.0540e-01,  6.5219e-02, -1.7268e-02,\n",
            "        -9.8863e-02, -4.3775e-02,  6.8442e-02,  7.2109e-02, -6.1703e-02,\n",
            "        -9.2320e-02, -1.0429e-01,  9.4369e-02,  7.1797e-03, -3.2924e-02,\n",
            "        -1.0048e-02,  5.2615e-02, -6.5642e-02, -1.1360e-01, -1.2195e-01,\n",
            "        -9.4486e-02,  3.9359e-02,  5.5880e-02, -1.1839e-01,  7.1300e-02,\n",
            "         1.4893e-02, -6.0750e-02,  3.2071e-02, -6.8032e-02,  9.4777e-02,\n",
            "         1.1532e-01, -5.8279e-02, -5.8949e-02,  5.1094e-02, -6.2611e-03,\n",
            "         8.4633e-02, -4.8701e-02,  6.0734e-02, -3.5280e-02,  1.2136e-01,\n",
            "         1.0280e-01,  8.0940e-02, -4.3407e-02, -5.3275e-02,  6.0584e-02,\n",
            "         7.6124e-02,  8.5221e-02, -7.7207e-02,  3.9305e-02,  2.1624e-02,\n",
            "         2.5050e-02,  1.1158e-03, -1.3058e-01, -6.2572e-02,  5.7320e-02,\n",
            "        -1.2203e-01,  5.9389e-02,  3.3725e-02,  1.1840e-01, -6.3927e-02,\n",
            "         8.6313e-02,  3.8535e-02, -5.6071e-03,  4.3236e-02, -2.0477e-02,\n",
            "        -4.1372e-02])\n",
            "tensor([ 0.0478,  0.0169, -0.0437, -0.0719, -0.0928, -0.0378,  0.0734,  0.0181,\n",
            "         0.0539, -0.0203, -0.0813,  0.0919, -0.1137, -0.0597, -0.1187, -0.0732,\n",
            "         0.0855,  0.0470,  0.0123,  0.1156, -0.0204, -0.0464,  0.0810,  0.0972,\n",
            "        -0.0877, -0.0177, -0.0453,  0.0320, -0.0172,  0.0119,  0.0489,  0.0420,\n",
            "        -0.0841,  0.0434, -0.0452, -0.0101,  0.0526,  0.1089, -0.0057, -0.0589,\n",
            "        -0.0866, -0.0291,  0.0893,  0.1000, -0.0325, -0.0821, -0.1400,  0.0802,\n",
            "         0.0743,  0.1014,  0.0338,  0.0358,  0.0824,  0.0526, -0.0805,  0.0438,\n",
            "         0.0546,  0.0518, -0.0365, -0.0349, -0.0088,  0.0840, -0.0950,  0.0668,\n",
            "        -0.1068, -0.1095,  0.0914, -0.0141,  0.0311,  0.0972,  0.0073, -0.1149,\n",
            "        -0.0615, -0.0110,  0.0651,  0.0412, -0.1075, -0.0853,  0.1233,  0.0434,\n",
            "        -0.0964, -0.0991, -0.0978, -0.0515,  0.1160,  0.0417,  0.0730, -0.1198,\n",
            "         0.0675, -0.0505,  0.0514,  0.0909,  0.0904, -0.0845, -0.0223, -0.0366,\n",
            "         0.0754, -0.1215, -0.0680, -0.0212, -0.0984, -0.0797, -0.0679, -0.1026,\n",
            "         0.1255,  0.1002, -0.0032, -0.0499, -0.0255,  0.0782, -0.0030,  0.1079,\n",
            "         0.0339,  0.0508, -0.1185,  0.0957, -0.0557, -0.0101, -0.0723, -0.0807,\n",
            "        -0.0765,  0.0243,  0.1078, -0.0698,  0.0322,  0.1001, -0.0833,  0.1095,\n",
            "        -0.1174, -0.0309,  0.0211, -0.1039, -0.0942,  0.0449,  0.0528, -0.0041,\n",
            "        -0.1130, -0.0492, -0.0054, -0.0702,  0.0248,  0.0815, -0.0766, -0.0305,\n",
            "        -0.0526,  0.1022, -0.0218, -0.1166,  0.0303,  0.0589, -0.1076, -0.0468,\n",
            "        -0.0393, -0.0375,  0.1141,  0.0998,  0.1040,  0.0393, -0.0257, -0.0600,\n",
            "        -0.0310,  0.0570,  0.0284, -0.0328, -0.0224, -0.0099, -0.0177, -0.0011,\n",
            "         0.0329,  0.0962,  0.0121,  0.0971, -0.0106, -0.1003, -0.0970,  0.1055,\n",
            "        -0.1192, -0.1200,  0.0159, -0.0051, -0.0380,  0.0825,  0.0881, -0.0462,\n",
            "         0.0004, -0.0175, -0.0499, -0.1142, -0.0054, -0.0495,  0.1150,  0.0509,\n",
            "        -0.0609,  0.0144, -0.0601, -0.0603,  0.0879, -0.0471, -0.0285,  0.1119,\n",
            "         0.0988, -0.0514,  0.0920,  0.0670,  0.0646,  0.0785, -0.0492, -0.0352,\n",
            "         0.0582, -0.1365, -0.0201,  0.0870, -0.0443,  0.0395,  0.0123, -0.1160,\n",
            "         0.1199, -0.0597, -0.0289,  0.0846, -0.0168,  0.0404, -0.0186, -0.0405,\n",
            "        -0.0626, -0.0097,  0.0747, -0.0368,  0.0220, -0.0567, -0.0762,  0.0448,\n",
            "         0.0447, -0.0614,  0.0964,  0.1234, -0.0992, -0.0516,  0.1047, -0.0263,\n",
            "        -0.0351, -0.1194,  0.0546, -0.0389, -0.0936,  0.0763, -0.1057, -0.0517,\n",
            "        -0.0636, -0.1195,  0.1051,  0.0702, -0.0932,  0.0108, -0.0055,  0.0522])\n",
            "tensor([[-0.0324, -0.0358, -0.0201,  0.0128,  0.0962,  0.0077,  0.0535,  0.0430,\n",
            "         -0.0844, -0.1062,  0.1126,  0.0498, -0.0363, -0.0045, -0.0226, -0.0087,\n",
            "          0.0974,  0.0922,  0.0878, -0.1175,  0.1168, -0.1014, -0.0779, -0.0947,\n",
            "          0.1028, -0.0210,  0.1109,  0.0187,  0.0926, -0.1226,  0.0157, -0.1081,\n",
            "          0.0308, -0.0109, -0.1063, -0.0409,  0.0192, -0.0426, -0.1180,  0.1018,\n",
            "          0.1135, -0.0709, -0.0763,  0.0455,  0.0375,  0.0088, -0.0954, -0.0888,\n",
            "         -0.0948, -0.0477, -0.0449, -0.0708, -0.0143,  0.0168,  0.0506,  0.0096,\n",
            "         -0.0075, -0.1091,  0.0094,  0.1179,  0.0752, -0.0004, -0.0979,  0.0564]])\n",
            "tensor([0.0126])\n"
          ]
        }
      ],
      "source": [
        "for param in rnn.parameters():\n",
        "    print(param.data)"
      ]
    },
    {
      "cell_type": "markdown",
      "metadata": {
        "id": "PY0wF6e46-JE"
      },
      "source": [
        "## Step 5: Checking model performance\n",
        "\n",
        "With our model fit we can now make predictions on both our training and testing sets."
      ]
    },
    {
      "cell_type": "code",
      "execution_count": 21,
      "metadata": {
        "colab": {
          "base_uri": "https://localhost:8080/",
          "height": 448
        },
        "id": "6dygBlig6_XD",
        "outputId": "e9492122-fb39-4a9d-a18f-01761d08c62c"
      },
      "outputs": [
        {
          "data": {
            "text/plain": [
              "[<matplotlib.lines.Line2D at 0x2a21beaf0>]"
            ]
          },
          "execution_count": 21,
          "metadata": {},
          "output_type": "execute_result"
        },
        {
          "data": {
            "image/png": "[encoded data removed]",
            "text/plain": [
              "<Figure size 640x480 with 1 Axes>"
            ]
          },
          "metadata": {},
          "output_type": "display_data"
        }
      ],
      "source": [
        "plt.plot(history)\n",
        "# dplt.plot(history.history['val_loss'])"
      ]
    },
    {
      "cell_type": "code",
      "execution_count": 22,
      "metadata": {
        "colab": {
          "base_uri": "https://localhost:8080/",
          "height": 448
        },
        "id": "VtVAMN2OFXnr",
        "outputId": "fa2fa38f-8613-4165-f35e-8c492639abd2"
      },
      "outputs": [
        {
          "data": {
            "text/plain": [
              "[<matplotlib.lines.Line2D at 0x2c17bfac0>]"
            ]
          },
          "execution_count": 22,
          "metadata": {},
          "output_type": "execute_result"
        },
        {
          "data": {
            "image/png": "[encoded data removed]",
            "text/plain": [
              "<Figure size 640x480 with 1 Axes>"
            ]
          },
          "metadata": {},
          "output_type": "display_data"
        }
      ],
      "source": [
        "plt.plot(history_eval_loss)"
      ]
    },
    {
      "cell_type": "code",
      "execution_count": 23,
      "metadata": {
        "colab": {
          "base_uri": "https://localhost:8080/"
        },
        "id": "ScaBHhTv7Jih",
        "outputId": "252d9618-8d28-4ee5-e6a6-5c7b4dae41e3"
      },
      "outputs": [
        {
          "data": {
            "text/plain": [
              "array([[0.53324732, 0.53097957, 0.5909131 , 0.5891313 , 0.59358582,\n",
              "        0.60338576, 0.61342868]])"
            ]
          },
          "execution_count": 23,
          "metadata": {},
          "output_type": "execute_result"
        }
      ],
      "source": [
        "X_test[0]"
      ]
    },
    {
      "cell_type": "code",
      "execution_count": 24,
      "metadata": {
        "colab": {
          "base_uri": "https://localhost:8080/"
        },
        "id": "qnuZI5F1E23n",
        "outputId": "7f9bf890-b990-4dae-b544-18f4ee3957b9"
      },
      "outputs": [
        {
          "name": "stdout",
          "output_type": "stream",
          "text": [
            "None\n"
          ]
        }
      ],
      "source": [
        "print(hidden_state)"
      ]
    },
    {
      "cell_type": "code",
      "execution_count": 27,
      "metadata": {
        "id": "hyICDKXa7Vbe"
      },
      "outputs": [],
      "source": [
        "rnn.eval()\n",
        "# test_inputs = torch.tensor(X_test).float().cuda()\n",
        "test_predict, _ = rnn(X_test_cuda, hidden_state)\n",
        "y_test = np.reshape(y_test, (y_test.shape[0], 1, 1))\n",
        "y_test_tensor = torch.Tensor(y_test)"
      ]
    },
    {
      "cell_type": "code",
      "execution_count": 28,
      "metadata": {
        "colab": {
          "base_uri": "https://localhost:8080/"
        },
        "id": "ZFfEHLGReBdr",
        "outputId": "53926af4-830d-4cfe-ec77-06bb0ff8268f"
      },
      "outputs": [
        {
          "name": "stdout",
          "output_type": "stream",
          "text": [
            "tensor(0.0054, grad_fn=<MseLossBackward0>)\n"
          ]
        }
      ],
      "source": [
        "print(F.mse_loss(test_predict, y_test_tensor))"
      ]
    },
    {
      "cell_type": "code",
      "execution_count": 30,
      "metadata": {},
      "outputs": [],
      "source": [
        "y_predict = test_predict.detach().numpy()"
      ]
    },
    {
      "cell_type": "code",
      "execution_count": 31,
      "metadata": {
        "colab": {
          "base_uri": "https://localhost:8080/",
          "height": 448
        },
        "id": "c-__h1sU7kW6",
        "outputId": "93528af3-3deb-4555-de48-0c4df202c402"
      },
      "outputs": [
        {
          "data": {
            "text/plain": [
              "[<matplotlib.lines.Line2D at 0x2d09cd310>]"
            ]
          },
          "execution_count": 31,
          "metadata": {},
          "output_type": "execute_result"
        },
        {
          "data": {
            "image/png": "[encoded data removed]",
            "text/plain": [
              "<Figure size 640x480 with 1 Axes>"
            ]
          },
          "metadata": {},
          "output_type": "display_data"
        }
      ],
      "source": [
        "plt.plot(sc.inverse_transform(y_test.reshape(-1,1)))\n",
        "plt.plot(sc.inverse_transform(y_predict.reshape(-1,1)))"
      ]
    },
    {
      "cell_type": "code",
      "execution_count": 32,
      "metadata": {
        "colab": {
          "base_uri": "https://localhost:8080/",
          "height": 449
        },
        "id": "LnMGQ5Sa8vMs",
        "outputId": "8563da35-add4-42ed-d5d0-163a47ef3159"
      },
      "outputs": [
        {
          "data": {
            "image/png": "[encoded data removed]",
            "text/plain": [
              "<Figure size 640x480 with 1 Axes>"
            ]
          },
          "metadata": {},
          "output_type": "display_data"
        }
      ],
      "source": [
        "# plot original data\n",
        "plt.plot(sc.inverse_transform(y.reshape(-1,1)), color='k')\n",
        "\n",
        "# train_inputs = torch.tensor(X_train).float().cuda()\n",
        "train_pred, hidden_state = rnn(inputs_cuda, None)\n",
        "train_pred_cpu = train_pred.detach().numpy()\n",
        "\n",
        "# use hidden state from previous training data\n",
        "test_predict, _ = rnn(X_test_cuda, hidden_state)\n",
        "test_predict_cpu = test_predict.detach().numpy()\n",
        "\n",
        "# plt.plot(scl.inverse_transform(y_test.reshape(-1,1)))\n",
        "split_pt = int(X.shape[0] * 0.80) + 7 # window_size\n",
        "plt.plot(np.arange(7, split_pt, 1), sc.inverse_transform(train_pred_cpu.reshape(-1,1)), color='b')\n",
        "plt.plot(np.arange(split_pt, split_pt + len(test_predict_cpu), 1), sc.inverse_transform(test_predict_cpu.reshape(-1,1)), color='r')\n",
        "\n",
        "# pretty up graph\n",
        "plt.xlabel('day')\n",
        "plt.ylabel('price of MMM stock')\n",
        "plt.legend(['original series','training fit','testing fit'], loc='center left', bbox_to_anchor=(1, 0.5))\n",
        "plt.show()\n"
      ]
    },
    {
      "cell_type": "code",
      "execution_count": null,
      "metadata": {
        "id": "u4J-TrjE2bTy"
      },
      "outputs": [],
      "source": []
    }
  ],
  "metadata": {
    "accelerator": "GPU",
    "colab": {
      "provenance": []
    },
    "kernelspec": {
      "display_name": "Python 3",
      "name": "python3"
    },
    "language_info": {
      "codemirror_mode": {
        "name": "ipython",
        "version": 3
      },
      "file_extension": ".py",
      "mimetype": "text/x-python",
      "name": "python",
      "nbconvert_exporter": "python",
      "pygments_lexer": "ipython3",
      "version": "3.9.6"
    }
  },
  "nbformat": 4,
  "nbformat_minor": 0
}
